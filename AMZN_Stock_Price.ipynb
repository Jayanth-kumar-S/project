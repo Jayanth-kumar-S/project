{
  "nbformat": 4,
  "nbformat_minor": 0,
  "metadata": {
    "colab": {
      "name": "AMZN_Stock_Price.ipynb",
      "provenance": [],
      "authorship_tag": "ABX9TyOwo4FjwK0k6btOo+qlWGhs",
      "include_colab_link": true
    },
    "kernelspec": {
      "name": "python3",
      "display_name": "Python 3"
    }
  },
  "cells": [
    {
      "cell_type": "markdown",
      "metadata": {
        "id": "view-in-github",
        "colab_type": "text"
      },
      "source": [
        "<a href=\"https://colab.research.google.com/github/Jayanth-kumar-S/project/blob/master/AMZN_Stock_Price.ipynb\" target=\"_parent\"><img src=\"https://colab.research.google.com/assets/colab-badge.svg\" alt=\"Open In Colab\"/></a>"
      ]
    },
    {
      "cell_type": "code",
      "metadata": {
        "id": "sKImyY3d0a_P",
        "colab_type": "code",
        "colab": {
          "base_uri": "https://localhost:8080/",
          "height": 72
        },
        "outputId": "5ad497e7-8738-4edd-dc98-2c0e952eae86"
      },
      "source": [
        "#importing libraries\n",
        "import math\n",
        "import pandas_datareader as web\n",
        "import numpy as np\n",
        "import pandas as pd\n",
        "from sklearn.preprocessing import MinMaxScaler\n",
        "from keras.models import Sequential\n",
        "from keras.layers import Dense, LSTM\n",
        "import matplotlib.pyplot as plt\n",
        "plt.style.use('fivethirtyeight')"
      ],
      "execution_count": 1,
      "outputs": [
        {
          "output_type": "stream",
          "text": [
            "/usr/local/lib/python3.6/dist-packages/pandas_datareader/compat/__init__.py:7: FutureWarning: pandas.util.testing is deprecated. Use the functions in the public API at pandas.testing instead.\n",
            "  from pandas.util.testing import assert_frame_equal\n"
          ],
          "name": "stderr"
        }
      ]
    },
    {
      "cell_type": "code",
      "metadata": {
        "id": "1q21FYQP0fYg",
        "colab_type": "code",
        "colab": {
          "base_uri": "https://localhost:8080/",
          "height": 598
        },
        "outputId": "de78f31d-04c3-499e-e2b8-2796c6ac3bb3"
      },
      "source": [
        "#dataset of amazon stock info \n",
        "df = web.DataReader('AMZN',data_source='yahoo',start='2012-01-01',end='2020-08-17')\n",
        "df"
      ],
      "execution_count": 2,
      "outputs": [
        {
          "output_type": "execute_result",
          "data": {
            "text/html": [
              "<div>\n",
              "<style scoped>\n",
              "    .dataframe tbody tr th:only-of-type {\n",
              "        vertical-align: middle;\n",
              "    }\n",
              "\n",
              "    .dataframe tbody tr th {\n",
              "        vertical-align: top;\n",
              "    }\n",
              "\n",
              "    .dataframe thead th {\n",
              "        text-align: right;\n",
              "    }\n",
              "</style>\n",
              "<table border=\"1\" class=\"dataframe\">\n",
              "  <thead>\n",
              "    <tr style=\"text-align: right;\">\n",
              "      <th></th>\n",
              "      <th>High</th>\n",
              "      <th>Low</th>\n",
              "      <th>Open</th>\n",
              "      <th>Close</th>\n",
              "      <th>Volume</th>\n",
              "      <th>Adj Close</th>\n",
              "    </tr>\n",
              "    <tr>\n",
              "      <th>Date</th>\n",
              "      <th></th>\n",
              "      <th></th>\n",
              "      <th></th>\n",
              "      <th></th>\n",
              "      <th></th>\n",
              "      <th></th>\n",
              "    </tr>\n",
              "  </thead>\n",
              "  <tbody>\n",
              "    <tr>\n",
              "      <th>2012-01-03</th>\n",
              "      <td>179.479996</td>\n",
              "      <td>175.550003</td>\n",
              "      <td>175.889999</td>\n",
              "      <td>179.029999</td>\n",
              "      <td>5110800</td>\n",
              "      <td>179.029999</td>\n",
              "    </tr>\n",
              "    <tr>\n",
              "      <th>2012-01-04</th>\n",
              "      <td>180.500000</td>\n",
              "      <td>176.070007</td>\n",
              "      <td>179.210007</td>\n",
              "      <td>177.509995</td>\n",
              "      <td>4205200</td>\n",
              "      <td>177.509995</td>\n",
              "    </tr>\n",
              "    <tr>\n",
              "      <th>2012-01-05</th>\n",
              "      <td>178.250000</td>\n",
              "      <td>174.050003</td>\n",
              "      <td>175.940002</td>\n",
              "      <td>177.610001</td>\n",
              "      <td>3809100</td>\n",
              "      <td>177.610001</td>\n",
              "    </tr>\n",
              "    <tr>\n",
              "      <th>2012-01-06</th>\n",
              "      <td>184.649994</td>\n",
              "      <td>177.500000</td>\n",
              "      <td>178.070007</td>\n",
              "      <td>182.610001</td>\n",
              "      <td>7008400</td>\n",
              "      <td>182.610001</td>\n",
              "    </tr>\n",
              "    <tr>\n",
              "      <th>2012-01-09</th>\n",
              "      <td>184.369995</td>\n",
              "      <td>177.000000</td>\n",
              "      <td>182.759995</td>\n",
              "      <td>178.559998</td>\n",
              "      <td>5056900</td>\n",
              "      <td>178.559998</td>\n",
              "    </tr>\n",
              "    <tr>\n",
              "      <th>...</th>\n",
              "      <td>...</td>\n",
              "      <td>...</td>\n",
              "      <td>...</td>\n",
              "      <td>...</td>\n",
              "      <td>...</td>\n",
              "      <td>...</td>\n",
              "    </tr>\n",
              "    <tr>\n",
              "      <th>2020-08-11</th>\n",
              "      <td>3159.219971</td>\n",
              "      <td>3073.000000</td>\n",
              "      <td>3113.199951</td>\n",
              "      <td>3080.669922</td>\n",
              "      <td>3718100</td>\n",
              "      <td>3080.669922</td>\n",
              "    </tr>\n",
              "    <tr>\n",
              "      <th>2020-08-12</th>\n",
              "      <td>3174.389893</td>\n",
              "      <td>3101.419922</td>\n",
              "      <td>3108.000000</td>\n",
              "      <td>3162.239990</td>\n",
              "      <td>3527200</td>\n",
              "      <td>3162.239990</td>\n",
              "    </tr>\n",
              "    <tr>\n",
              "      <th>2020-08-13</th>\n",
              "      <td>3217.520020</td>\n",
              "      <td>3155.000000</td>\n",
              "      <td>3182.989990</td>\n",
              "      <td>3161.020020</td>\n",
              "      <td>3149000</td>\n",
              "      <td>3161.020020</td>\n",
              "    </tr>\n",
              "    <tr>\n",
              "      <th>2020-08-14</th>\n",
              "      <td>3178.239990</td>\n",
              "      <td>3120.000000</td>\n",
              "      <td>3178.179932</td>\n",
              "      <td>3148.020020</td>\n",
              "      <td>2751700</td>\n",
              "      <td>3148.020020</td>\n",
              "    </tr>\n",
              "    <tr>\n",
              "      <th>2020-08-17</th>\n",
              "      <td>3194.969971</td>\n",
              "      <td>3154.179932</td>\n",
              "      <td>3173.120117</td>\n",
              "      <td>3182.409912</td>\n",
              "      <td>2685900</td>\n",
              "      <td>3182.409912</td>\n",
              "    </tr>\n",
              "  </tbody>\n",
              "</table>\n",
              "<p>2170 rows × 6 columns</p>\n",
              "</div>"
            ],
            "text/plain": [
              "                   High          Low  ...   Volume    Adj Close\n",
              "Date                                  ...                      \n",
              "2012-01-03   179.479996   175.550003  ...  5110800   179.029999\n",
              "2012-01-04   180.500000   176.070007  ...  4205200   177.509995\n",
              "2012-01-05   178.250000   174.050003  ...  3809100   177.610001\n",
              "2012-01-06   184.649994   177.500000  ...  7008400   182.610001\n",
              "2012-01-09   184.369995   177.000000  ...  5056900   178.559998\n",
              "...                 ...          ...  ...      ...          ...\n",
              "2020-08-11  3159.219971  3073.000000  ...  3718100  3080.669922\n",
              "2020-08-12  3174.389893  3101.419922  ...  3527200  3162.239990\n",
              "2020-08-13  3217.520020  3155.000000  ...  3149000  3161.020020\n",
              "2020-08-14  3178.239990  3120.000000  ...  2751700  3148.020020\n",
              "2020-08-17  3194.969971  3154.179932  ...  2685900  3182.409912\n",
              "\n",
              "[2170 rows x 6 columns]"
            ]
          },
          "metadata": {
            "tags": []
          },
          "execution_count": 2
        }
      ]
    },
    {
      "cell_type": "code",
      "metadata": {
        "id": "bQelfOfc0nCV",
        "colab_type": "code",
        "colab": {
          "base_uri": "https://localhost:8080/",
          "height": 34
        },
        "outputId": "77b70d13-0a20-42f6-b9fd-48962e4aff26"
      },
      "source": [
        "#Get the nuhmber of rows and columns in the data set\n",
        "df.shape"
      ],
      "execution_count": 3,
      "outputs": [
        {
          "output_type": "execute_result",
          "data": {
            "text/plain": [
              "(2170, 6)"
            ]
          },
          "metadata": {
            "tags": []
          },
          "execution_count": 3
        }
      ]
    },
    {
      "cell_type": "code",
      "metadata": {
        "id": "NSFgv5QE0rDM",
        "colab_type": "code",
        "colab": {
          "base_uri": "https://localhost:8080/",
          "height": 311
        },
        "outputId": "b298cd73-253c-4677-a38e-d20ff5d90a2a"
      },
      "source": [
        "#Visualize the closing price history of amazon\n",
        "plt.figure(figsize=(16,8))\n",
        "plt.title('Close Price History of AMAZON')\n",
        "plt.plot(df['Close'])\n",
        "plt.xlabel('Date',fontsize=18)\n",
        "plt.ylabel('close price USD ($)',fontsize=18)\n",
        "plt.show()"
      ],
      "execution_count": 4,
      "outputs": [
        {
          "output_type": "display_data",
          "data": {
            "image/png": "[encoded data removed]",
            "text/plain": [
              "<Figure size 1152x576 with 1 Axes>"
            ]
          },
          "metadata": {
            "tags": [],
            "needs_background": "light"
          }
        }
      ]
    },
    {
      "cell_type": "code",
      "metadata": {
        "id": "xfcKWHS70uS1",
        "colab_type": "code",
        "colab": {
          "base_uri": "https://localhost:8080/",
          "height": 34
        },
        "outputId": "cfe82aa1-4d78-49a9-a805-29d3f1f793d8"
      },
      "source": [
        "#Create a new data frame with only the 'Close column'\n",
        "data = df.filter(['Close'])\n",
        "\n",
        "#Convert the dataframe to numpy array\n",
        "dataset = data.values\n",
        "\n",
        "#Get the number of rows to train the model on \n",
        "training_data_len = math.ceil(len(dataset) * .8 )\n",
        "\n",
        "training_data_len"
      ],
      "execution_count": 5,
      "outputs": [
        {
          "output_type": "execute_result",
          "data": {
            "text/plain": [
              "1736"
            ]
          },
          "metadata": {
            "tags": []
          },
          "execution_count": 5
        }
      ]
    },
    {
      "cell_type": "code",
      "metadata": {
        "id": "nQEiLQ0U1W3k",
        "colab_type": "code",
        "colab": {
          "base_uri": "https://localhost:8080/",
          "height": 140
        },
        "outputId": "2971f43b-e375-4bd6-b526-5b6802ce28ab"
      },
      "source": [
        "#Scale the data before it presents to neural netrwork as it good practice by preprocessing the datae\n",
        "scaler = MinMaxScaler(feature_range=(0,1))\n",
        "scaled_data = scaler.fit_transform(dataset)\n",
        "scaled_data"
      ],
      "execution_count": 6,
      "outputs": [
        {
          "output_type": "execute_result",
          "data": {
            "text/plain": [
              "array([[1.01670545e-03],\n",
              "       [5.18191392e-04],\n",
              "       [5.50990279e-04],\n",
              "       ...,\n",
              "       [9.79016559e-01],\n",
              "       [9.74752964e-01],\n",
              "       [9.86031778e-01]])"
            ]
          },
          "metadata": {
            "tags": []
          },
          "execution_count": 6
        }
      ]
    },
    {
      "cell_type": "code",
      "metadata": {
        "id": "YGJ0y1iW1cIo",
        "colab_type": "code",
        "colab": {
          "base_uri": "https://localhost:8080/",
          "height": 1000
        },
        "outputId": "60da2a7b-45fe-4e7b-a476-5fb07187709b"
      },
      "source": [
        "#Create the training data set\n",
        "#Crete the scaled training set\n",
        "train_data = scaled_data[0:training_data_len , :]\n",
        "\n",
        "#Split the data into x_train and _train data sets\n",
        "x_train = []\n",
        "y_train = []\n",
        "\n",
        "for i in range(120, len(train_data)):\n",
        "  x_train.append(train_data[i-120:i, 0])\n",
        "  y_train.append(train_data[i,0])\n",
        "  if i<=121:\n",
        "    print(x_train)\n",
        "    print(y_train)\n",
        "    print()"
      ],
      "execution_count": 7,
      "outputs": [
        {
          "output_type": "stream",
          "text": [
            "[array([0.00101671, 0.00051819, 0.00055099, 0.00219083, 0.00086256,\n",
            "       0.00111837, 0.00097407, 0.        , 0.00081664, 0.00187927,\n",
            "       0.00443086, 0.00607398, 0.00491953, 0.00333216, 0.00363062,\n",
            "       0.00389299, 0.00570338, 0.00637572, 0.00531966, 0.00607071,\n",
            "       0.00115773, 0.00189894, 0.00385363, 0.00236466, 0.00270903,\n",
            "       0.0031321 , 0.00296812, 0.00315178, 0.00513599, 0.00504088,\n",
            "       0.00280086, 0.00131188, 0.00215476, 0.00207604, 0.00152506,\n",
            "       0.00097079, 0.0010495 , 0.00085272, 0.00258112, 0.00123317,\n",
            "       0.00134795, 0.00110526, 0.00142011, 0.00169232, 0.00257128,\n",
            "       0.00384052, 0.00275166, 0.00244665, 0.00284021, 0.00207604,\n",
            "       0.00278774, 0.00299108, 0.00314523, 0.00537869, 0.00518191,\n",
            "       0.00540165, 0.00626749, 0.00883548, 0.00967836, 0.00827466,\n",
            "       0.00940615, 0.00871741, 0.00725467, 0.0077827 , 0.00592312,\n",
            "       0.00605431, 0.00522782, 0.00362406, 0.00394875, 0.00484082,\n",
            "       0.00410945, 0.00313866, 0.00408649, 0.00496545, 0.00497529,\n",
            "       0.00460796, 0.0040373 , 0.00472275, 0.00606415, 0.00657906,\n",
            "       0.01670018, 0.01835642, 0.01774639, 0.01781527, 0.01755289,\n",
            "       0.01576219, 0.01614591, 0.01573267, 0.01543094, 0.0166477 ,\n",
            "       0.01697239, 0.01541454, 0.01589337, 0.01578514, 0.01391572,\n",
            "       0.01243658, 0.01383373, 0.01292198, 0.01356151, 0.01289246,\n",
            "       0.01212173, 0.01273175, 0.01092136, 0.01212829, 0.01059012,\n",
            "       0.01267272, 0.01222668, 0.01367958, 0.01406003, 0.01395508,\n",
            "       0.0133057 , 0.01327946, 0.01272519, 0.01263336, 0.01391244,\n",
            "       0.01532599, 0.0157753 , 0.01544406, 0.01464053, 0.015162  ])]\n",
            "[0.01447655007671457]\n",
            "\n",
            "[array([0.00101671, 0.00051819, 0.00055099, 0.00219083, 0.00086256,\n",
            "       0.00111837, 0.00097407, 0.        , 0.00081664, 0.00187927,\n",
            "       0.00443086, 0.00607398, 0.00491953, 0.00333216, 0.00363062,\n",
            "       0.00389299, 0.00570338, 0.00637572, 0.00531966, 0.00607071,\n",
            "       0.00115773, 0.00189894, 0.00385363, 0.00236466, 0.00270903,\n",
            "       0.0031321 , 0.00296812, 0.00315178, 0.00513599, 0.00504088,\n",
            "       0.00280086, 0.00131188, 0.00215476, 0.00207604, 0.00152506,\n",
            "       0.00097079, 0.0010495 , 0.00085272, 0.00258112, 0.00123317,\n",
            "       0.00134795, 0.00110526, 0.00142011, 0.00169232, 0.00257128,\n",
            "       0.00384052, 0.00275166, 0.00244665, 0.00284021, 0.00207604,\n",
            "       0.00278774, 0.00299108, 0.00314523, 0.00537869, 0.00518191,\n",
            "       0.00540165, 0.00626749, 0.00883548, 0.00967836, 0.00827466,\n",
            "       0.00940615, 0.00871741, 0.00725467, 0.0077827 , 0.00592312,\n",
            "       0.00605431, 0.00522782, 0.00362406, 0.00394875, 0.00484082,\n",
            "       0.00410945, 0.00313866, 0.00408649, 0.00496545, 0.00497529,\n",
            "       0.00460796, 0.0040373 , 0.00472275, 0.00606415, 0.00657906,\n",
            "       0.01670018, 0.01835642, 0.01774639, 0.01781527, 0.01755289,\n",
            "       0.01576219, 0.01614591, 0.01573267, 0.01543094, 0.0166477 ,\n",
            "       0.01697239, 0.01541454, 0.01589337, 0.01578514, 0.01391572,\n",
            "       0.01243658, 0.01383373, 0.01292198, 0.01356151, 0.01289246,\n",
            "       0.01212173, 0.01273175, 0.01092136, 0.01212829, 0.01059012,\n",
            "       0.01267272, 0.01222668, 0.01367958, 0.01406003, 0.01395508,\n",
            "       0.0133057 , 0.01327946, 0.01272519, 0.01263336, 0.01391244,\n",
            "       0.01532599, 0.0157753 , 0.01544406, 0.01464053, 0.015162  ]), array([0.00051819, 0.00055099, 0.00219083, 0.00086256, 0.00111837,\n",
            "       0.00097407, 0.        , 0.00081664, 0.00187927, 0.00443086,\n",
            "       0.00607398, 0.00491953, 0.00333216, 0.00363062, 0.00389299,\n",
            "       0.00570338, 0.00637572, 0.00531966, 0.00607071, 0.00115773,\n",
            "       0.00189894, 0.00385363, 0.00236466, 0.00270903, 0.0031321 ,\n",
            "       0.00296812, 0.00315178, 0.00513599, 0.00504088, 0.00280086,\n",
            "       0.00131188, 0.00215476, 0.00207604, 0.00152506, 0.00097079,\n",
            "       0.0010495 , 0.00085272, 0.00258112, 0.00123317, 0.00134795,\n",
            "       0.00110526, 0.00142011, 0.00169232, 0.00257128, 0.00384052,\n",
            "       0.00275166, 0.00244665, 0.00284021, 0.00207604, 0.00278774,\n",
            "       0.00299108, 0.00314523, 0.00537869, 0.00518191, 0.00540165,\n",
            "       0.00626749, 0.00883548, 0.00967836, 0.00827466, 0.00940615,\n",
            "       0.00871741, 0.00725467, 0.0077827 , 0.00592312, 0.00605431,\n",
            "       0.00522782, 0.00362406, 0.00394875, 0.00484082, 0.00410945,\n",
            "       0.00313866, 0.00408649, 0.00496545, 0.00497529, 0.00460796,\n",
            "       0.0040373 , 0.00472275, 0.00606415, 0.00657906, 0.01670018,\n",
            "       0.01835642, 0.01774639, 0.01781527, 0.01755289, 0.01576219,\n",
            "       0.01614591, 0.01573267, 0.01543094, 0.0166477 , 0.01697239,\n",
            "       0.01541454, 0.01589337, 0.01578514, 0.01391572, 0.01243658,\n",
            "       0.01383373, 0.01292198, 0.01356151, 0.01289246, 0.01212173,\n",
            "       0.01273175, 0.01092136, 0.01212829, 0.01059012, 0.01267272,\n",
            "       0.01222668, 0.01367958, 0.01406003, 0.01395508, 0.0133057 ,\n",
            "       0.01327946, 0.01272519, 0.01263336, 0.01391244, 0.01532599,\n",
            "       0.0157753 , 0.01544406, 0.01464053, 0.015162  , 0.01447655])]\n",
            "[0.01447655007671457, 0.016293495333079652]\n",
            "\n"
          ],
          "name": "stdout"
        }
      ]
    },
    {
      "cell_type": "code",
      "metadata": {
        "id": "P3JsjBE835Lt",
        "colab_type": "code",
        "colab": {}
      },
      "source": [
        "#Convert the x_train and y_train to numpy arrays\n",
        "x_train, y_train = np.array(x_train), np.array(y_train)"
      ],
      "execution_count": 8,
      "outputs": []
    },
    {
      "cell_type": "code",
      "metadata": {
        "id": "VYey7cFQ3_Ov",
        "colab_type": "code",
        "colab": {
          "base_uri": "https://localhost:8080/",
          "height": 34
        },
        "outputId": "908e278e-f457-4ced-941d-9f25373400b2"
      },
      "source": [
        "x_train = np.reshape(x_train, (x_train.shape[0], x_train.shape[1], 1))\n",
        "x_train.shape"
      ],
      "execution_count": 9,
      "outputs": [
        {
          "output_type": "execute_result",
          "data": {
            "text/plain": [
              "(1616, 120, 1)"
            ]
          },
          "metadata": {
            "tags": []
          },
          "execution_count": 9
        }
      ]
    },
    {
      "cell_type": "code",
      "metadata": {
        "id": "G61YlnPV4Cn3",
        "colab_type": "code",
        "colab": {}
      },
      "source": [
        "#Build the LSTM model\n",
        "model = Sequential()\n",
        "model.add(LSTM(50, return_sequences=True, input_shape= (x_train.shape[1], 1)))\n",
        "model.add(LSTM(50, return_sequences=False))\n",
        "model.add(Dense(25))\n",
        "model.add(Dense(1))\n"
      ],
      "execution_count": 10,
      "outputs": []
    },
    {
      "cell_type": "code",
      "metadata": {
        "id": "79dzsrY44Ff6",
        "colab_type": "code",
        "colab": {}
      },
      "source": [
        "#compile the model\n",
        "model.compile(optimizer='adam', loss='mean_squared_error')"
      ],
      "execution_count": 11,
      "outputs": []
    },
    {
      "cell_type": "code",
      "metadata": {
        "id": "idGloMgj4JEi",
        "colab_type": "code",
        "colab": {
          "base_uri": "https://localhost:8080/",
          "height": 52
        },
        "outputId": "eee91b02-634c-41cc-8fd7-1f815dde7470"
      },
      "source": [
        "#Train the model\n",
        "model.fit(x_train, y_train, batch_size=1, epochs=1)"
      ],
      "execution_count": 12,
      "outputs": [
        {
          "output_type": "stream",
          "text": [
            "1616/1616 [==============================] - 68s 42ms/step - loss: 5.2229e-04\n"
          ],
          "name": "stdout"
        },
        {
          "output_type": "execute_result",
          "data": {
            "text/plain": [
              "<tensorflow.python.keras.callbacks.History at 0x7f0177fde208>"
            ]
          },
          "metadata": {
            "tags": []
          },
          "execution_count": 12
        }
      ]
    },
    {
      "cell_type": "code",
      "metadata": {
        "id": "Z6AZ2uTy4P-y",
        "colab_type": "code",
        "colab": {}
      },
      "source": [
        "#Create the testing data set\n",
        "#Create a new array containing scaled values from index 1616 to 2170\n",
        "test_data = scaled_data[training_data_len - 120: , :]\n",
        "\n",
        "#Create the data sets x_test and y_test\n",
        "x_test = []\n",
        "y_test = dataset[training_data_len:, :]\n",
        "for i in range(120, len(test_data)):\n",
        "  x_test.append(test_data[i-120:i, 0])\n",
        "  \n"
      ],
      "execution_count": 16,
      "outputs": []
    },
    {
      "cell_type": "code",
      "metadata": {
        "id": "BW-NXse04631",
        "colab_type": "code",
        "colab": {}
      },
      "source": [
        "#Convert the data to numpy array\n",
        "x_test = np.array(x_test)\n"
      ],
      "execution_count": 17,
      "outputs": []
    },
    {
      "cell_type": "code",
      "metadata": {
        "id": "jnF6gHiB7huv",
        "colab_type": "code",
        "colab": {}
      },
      "source": [
        "#Reshape the data\n",
        "x_test = np.reshape(x_test, (x_test.shape[0], x_test.shape[1], 1))"
      ],
      "execution_count": 18,
      "outputs": []
    },
    {
      "cell_type": "code",
      "metadata": {
        "id": "cuoh_igR7joE",
        "colab_type": "code",
        "colab": {}
      },
      "source": [
        "#Get the model predicted price values\n",
        "predictions = model.predict(x_test)\n",
        "predictions = scaler.inverse_transform(predictions)"
      ],
      "execution_count": 21,
      "outputs": []
    },
    {
      "cell_type": "code",
      "metadata": {
        "id": "A7zhcF8E7sj-",
        "colab_type": "code",
        "colab": {
          "base_uri": "https://localhost:8080/",
          "height": 34
        },
        "outputId": "44770859-dd6f-449a-b247-7c2bcc5eb306"
      },
      "source": [
        "#Get the root mean squared error (RSME)\n",
        "rsme = np.sqrt( np.mean( predictions - y_test )**2 )\n",
        "rsme"
      ],
      "execution_count": 27,
      "outputs": [
        {
          "output_type": "execute_result",
          "data": {
            "text/plain": [
              "40.22249227075533"
            ]
          },
          "metadata": {
            "tags": []
          },
          "execution_count": 27
        }
      ]
    },
    {
      "cell_type": "code",
      "metadata": {
        "id": "PkuKf7na7tN2",
        "colab_type": "code",
        "colab": {
          "base_uri": "https://localhost:8080/",
          "height": 623
        },
        "outputId": "104f9fd4-d137-4ab2-f506-8dd703260da9"
      },
      "source": [
        "#plot the data\n",
        "train = data[:training_data_len]\n",
        "valid = data[training_data_len:]\n",
        "valid['Predictions'] = predictions\n",
        "\n",
        "#Visualize the data\n",
        "plt.figure(figsize=(16,8))\n",
        "plt.title('Model')\n",
        "plt.xlabel('Date', fontsize=18)\n",
        "plt.ylabel('Close price USD ($)', fontsize=18)\n",
        "plt.plot(train['Close'])\n",
        "plt.plot(valid[['Close', 'Predictions']])\n",
        "plt.legend(['Train', 'Val', 'Predictions'], loc='lower right')\n",
        "plt.show()"
      ],
      "execution_count": 28,
      "outputs": [
        {
          "output_type": "stream",
          "text": [
            "/usr/local/lib/python3.6/dist-packages/ipykernel_launcher.py:4: SettingWithCopyWarning: \n",
            "A value is trying to be set on a copy of a slice from a DataFrame.\n",
            "Try using .loc[row_indexer,col_indexer] = value instead\n",
            "\n",
            "See the caveats in the documentation: https://pandas.pydata.org/pandas-docs/stable/user_guide/indexing.html#returning-a-view-versus-a-copy\n",
            "  after removing the cwd from sys.path.\n"
          ],
          "name": "stderr"
        },
        {
          "output_type": "display_data",
          "data": {
            "image/png": "[encoded data removed]",
            "text/plain": [
              "<Figure size 1152x576 with 1 Axes>"
            ]
          },
          "metadata": {
            "tags": [],
            "needs_background": "light"
          }
        }
      ]
    }
  ]
}